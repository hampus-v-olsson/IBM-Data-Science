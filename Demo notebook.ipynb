{
    "cells": [
        {
            "cell_type": "markdown",
            "metadata": {},
            "source": "# Sample notebook with outdoor store data"
        },
        {
            "cell_type": "code",
            "execution_count": 2,
            "metadata": {},
            "outputs": [
                {
                    "data": {
                        "text/html": "<div>\n<style scoped>\n    .dataframe tbody tr th:only-of-type {\n        vertical-align: middle;\n    }\n\n    .dataframe tbody tr th {\n        vertical-align: top;\n    }\n\n    .dataframe thead th {\n        text-align: right;\n    }\n</style>\n<table border=\"1\" class=\"dataframe\">\n  <thead>\n    <tr style=\"text-align: right;\">\n      <th></th>\n      <th>Retailer code</th>\n      <th>Product number</th>\n      <th>Date</th>\n      <th>Quantity</th>\n    </tr>\n  </thead>\n  <tbody>\n    <tr>\n      <th>0</th>\n      <td>1206</td>\n      <td>126140</td>\n      <td>06/02/2018</td>\n      <td>32</td>\n    </tr>\n    <tr>\n      <th>1</th>\n      <td>1149</td>\n      <td>128140</td>\n      <td>15/06/2018</td>\n      <td>31</td>\n    </tr>\n    <tr>\n      <th>2</th>\n      <td>1217</td>\n      <td>129130</td>\n      <td>15/03/2017</td>\n      <td>6</td>\n    </tr>\n    <tr>\n      <th>3</th>\n      <td>1275</td>\n      <td>149140</td>\n      <td>17/07/2018</td>\n      <td>54</td>\n    </tr>\n    <tr>\n      <th>4</th>\n      <td>1241</td>\n      <td>129130</td>\n      <td>10/10/2017</td>\n      <td>3</td>\n    </tr>\n  </tbody>\n</table>\n</div>",
                        "text/plain": "   Retailer code  Product number        Date  Quantity\n0           1206          126140  06/02/2018        32\n1           1149          128140  15/06/2018        31\n2           1217          129130  15/03/2017         6\n3           1275          149140  17/07/2018        54\n4           1241          129130  10/10/2017         3"
                    },
                    "execution_count": 2,
                    "metadata": {},
                    "output_type": "execute_result"
                }
            ],
            "source": "# The code was removed by Watson Studio for sharing."
        },
        {
            "cell_type": "code",
            "execution_count": null,
            "metadata": {},
            "outputs": [],
            "source": ""
        }
    ],
    "metadata": {
        "kernelspec": {
            "display_name": "Python 3.6",
            "language": "python",
            "name": "python3"
        },
        "language_info": {
            "codemirror_mode": {
                "name": "ipython",
                "version": 3
            },
            "file_extension": ".py",
            "mimetype": "text/x-python",
            "name": "python",
            "nbconvert_exporter": "python",
            "pygments_lexer": "ipython3",
            "version": "3.6.9"
        }
    },
    "nbformat": 4,
    "nbformat_minor": 1
}